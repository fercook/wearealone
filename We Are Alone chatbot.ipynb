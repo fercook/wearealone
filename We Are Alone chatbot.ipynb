{
 "cells": [
  {
   "cell_type": "markdown",
   "metadata": {},
   "source": [
    "We will build \n",
    "\n",
    "* (A) Convert words to embedding (Use a pretrained word2vec from Google News)\n",
    "* (B) Compute t-SNE of the embedding\n",
    "* (C) Compute a CNN to map embedding to t-SNE dimensional reduction\n",
    "* (D) Compute embeddings of sequences\n",
    "* (E) Use seq2seq between word (embedded) sequences and word (embedded) sequences\n",
    "\n",
    "The production system will be something like A/D -> E -> C\n",
    "\n"
   ]
  },
  {
   "cell_type": "code",
   "execution_count": 1,
   "metadata": {
    "collapsed": true
   },
   "outputs": [],
   "source": [
    "import numpy as np\n",
    "import pandas as pd"
   ]
  },
  {
   "cell_type": "markdown",
   "metadata": {},
   "source": [
    "# We will use pretrained word2vec weights"
   ]
  },
  {
   "cell_type": "code",
   "execution_count": 2,
   "metadata": {
    "collapsed": true
   },
   "outputs": [],
   "source": [
    "import gensim\n",
    "from gensim.models import Word2Vec\n",
    "from gensim.utils import simple_preprocess\n",
    "from gensim.models.keyedvectors import KeyedVectors"
   ]
  },
  {
   "cell_type": "code",
   "execution_count": 3,
   "metadata": {
    "collapsed": false
   },
   "outputs": [
    {
     "name": "stdout",
     "output_type": "stream",
     "text": [
      "There are 299567 words in this embedding\n"
     ]
    }
   ],
   "source": [
    "# Using a slimmed down version of Google News Word2Vec\n",
    "# URL: https://github.com/eyaler/word2vec-slim\n",
    "word_vectors = KeyedVectors.load_word2vec_format('/Users/fcucchietti/tmp/GoogleNews-vectors-negative300-SLIM.bin', binary=True)\n",
    "EMBEDDING_DIM=300\n",
    "print (\"There are \"+str(len((word_vectors.vocab)))+\" words in this embedding\")"
   ]
  },
  {
   "cell_type": "markdown",
   "metadata": {},
   "source": [
    "Let's clean duplicates with varying capitalizations (why did they leave them???)"
   ]
  },
  {
   "cell_type": "code",
   "execution_count": 4,
   "metadata": {
    "collapsed": true
   },
   "outputs": [],
   "source": [
    "def tokenize(orig_word):\n",
    "    filters='!\"#$%&()*+,-./:;<=>?@[\\\\]^_`{|}~\\t\\n\\''\n",
    "    word = orig_word.lower()\n",
    "    for f in filters:\n",
    "        word=word.replace(f,\"\")\n",
    "    return word"
   ]
  },
  {
   "cell_type": "code",
   "execution_count": 5,
   "metadata": {
    "collapsed": false
   },
   "outputs": [],
   "source": [
    "tokenizedVocab=set([])\n",
    "w2v={}\n",
    "for orig_word in word_vectors.vocab:\n",
    "    word = tokenize(orig_word)\n",
    "    if word not in tokenizedVocab:\n",
    "        tokenizedVocab.add(word)\n",
    "        w2v[word]=word_vectors[orig_word]\n",
    "tokenizedVocab=list(tokenizedVocab)"
   ]
  },
  {
   "cell_type": "code",
   "execution_count": 6,
   "metadata": {
    "collapsed": false
   },
   "outputs": [],
   "source": [
    "li=np.zeros((len(tokenizedVocab)+1, EMBEDDING_DIM))\n",
    "i2w={}\n",
    "w2i={}\n",
    "for idx,word in enumerate(tokenizedVocab):\n",
    "    w2i[word]=idx\n",
    "    i2w[idx]=word\n",
    "    li[idx] = w2v[word]\n",
    "df = pd.DataFrame(li)\n",
    "del word_vectors"
   ]
  },
  {
   "cell_type": "code",
   "execution_count": 8,
   "metadata": {
    "collapsed": false
   },
   "outputs": [
    {
     "name": "stdout",
     "output_type": "stream",
     "text": [
      "Kept only 178602 unique words (uncased)\n"
     ]
    }
   ],
   "source": [
    "print (\"Kept only \"+str(len(df))+\" unique words (uncased)\")"
   ]
  },
  {
   "cell_type": "markdown",
   "metadata": {
    "collapsed": false
   },
   "source": [
    "## Make a t-SNE representation"
   ]
  },
  {
   "cell_type": "code",
   "execution_count": null,
   "metadata": {
    "collapsed": false
   },
   "outputs": [],
   "source": [
    "# Option 1, save it to file and do it on the CLI\n",
    "df.to_csv(\"word2vecEmbeddings.tsv\",sep=\"\\t\",index=False,header=False)"
   ]
  },
  {
   "cell_type": "code",
   "execution_count": null,
   "metadata": {
    "collapsed": true
   },
   "outputs": [],
   "source": [
    "# Option 2, do it here (doesn't work in my Mac??)\n",
    "from MulticoreTSNE import MulticoreTSNE as TSNE\n",
    "tsne = TSNE(n_jobs=4,perplexity=40,n_iter=20000,verbose=1)\n",
    "tsne_representation = tsne.fit_transform(li)"
   ]
  },
  {
   "cell_type": "markdown",
   "metadata": {},
   "source": [
    "### Once tsne is finished, we read it back in and add the index number and the word associated to each position"
   ]
  },
  {
   "cell_type": "code",
   "execution_count": 28,
   "metadata": {
    "collapsed": false
   },
   "outputs": [],
   "source": [
    "%matplotlib inline\n",
    "import matplotlib.pyplot as plt\n",
    "import seaborn as sns"
   ]
  },
  {
   "cell_type": "code",
   "execution_count": 29,
   "metadata": {
    "collapsed": false
   },
   "outputs": [],
   "source": [
    "tsne = pd.read_csv(\"tsne_180Kw2v.tsv\",header=None,sep=\"\\t\",names=[\"x\",\"y\"])"
   ]
  },
  {
   "cell_type": "code",
   "execution_count": 39,
   "metadata": {
    "collapsed": false
   },
   "outputs": [],
   "source": [
    "tsne[\"word\"]=tokenizedVocab+[\"not_in_dic\"]"
   ]
  },
  {
   "cell_type": "code",
   "execution_count": 41,
   "metadata": {
    "collapsed": false
   },
   "outputs": [
    {
     "data": {
      "text/plain": [
       "<matplotlib.collections.PathCollection at 0x122fc7990>"
      ]
     },
     "execution_count": 41,
     "metadata": {},
     "output_type": "execute_result"
    },
    {
     "data": {
      "image/png": "[encoded data removed]",
      "text/plain": [
       "<Figure size 600x400 with 1 Axes>"
      ]
     },
     "metadata": {},
     "output_type": "display_data"
    }
   ],
   "source": [
    "plt.scatter(tsne.x, tsne.y,alpha=0.05, s=5, linewidths=0)"
   ]
  },
  {
   "cell_type": "markdown",
   "metadata": {},
   "source": [
    "### Clustering is hard so maybe categorize the text in part of speech categories"
   ]
  },
  {
   "cell_type": "code",
   "execution_count": null,
   "metadata": {
    "collapsed": true
   },
   "outputs": [],
   "source": [
    "from nltk.corpus import wordnet as wn"
   ]
  },
  {
   "cell_type": "code",
   "execution_count": 67,
   "metadata": {
    "collapsed": true
   },
   "outputs": [],
   "source": [
    "poses=[]\n",
    "for w in tokenizedVocab:\n",
    "    syns = wn.synsets(w)\n",
    "    if len(syns)==0:\n",
    "        syns = wn.synsets(wn.morphy('w'))\n",
    "    pos = list(set([ x.pos() for x in syns ]))\n",
    "    pos.sort()\n",
    "    if len(pos)==0:\n",
    "        pos=[\"0\"]\n",
    "    poses.append(\"\".join(pos))"
   ]
  },
  {
   "cell_type": "code",
   "execution_count": 68,
   "metadata": {
    "collapsed": true
   },
   "outputs": [],
   "source": [
    "tsne[\"pos\"]=poses+[\"0\"]"
   ]
  },
  {
   "cell_type": "code",
   "execution_count": 71,
   "metadata": {
    "collapsed": false
   },
   "outputs": [
    {
     "data": {
      "text/plain": [
       "array([u'n', u'nv', u'sv', u'as', u'v', u'r', u'a', u's', u'nsv', u'an',\n",
       "       u'anrsv', u'ansv', u'ans', u'ns', u'asv', u'av', u'anrs', u'nr',\n",
       "       u'anr', u'nrs', u'rs', u'anv', u'ars', u'arsv', u'ar', u'nrsv',\n",
       "       u'rv', u'rsv', u'nrv', '0'], dtype=object)"
      ]
     },
     "execution_count": 71,
     "metadata": {},
     "output_type": "execute_result"
    }
   ],
   "source": [
    "tsne.pos.unique()"
   ]
  },
  {
   "cell_type": "code",
   "execution_count": 72,
   "metadata": {
    "collapsed": true
   },
   "outputs": [],
   "source": [
    "tsne[\"posInt\"]=tsne.pos.astype(\"category\").cat.codes"
   ]
  },
  {
   "cell_type": "code",
   "execution_count": 74,
   "metadata": {
    "collapsed": false
   },
   "outputs": [
    {
     "data": {
      "text/html": [
       "<div>\n",
       "<style scoped>\n",
       "    .dataframe tbody tr th:only-of-type {\n",
       "        vertical-align: middle;\n",
       "    }\n",
       "\n",
       "    .dataframe tbody tr th {\n",
       "        vertical-align: top;\n",
       "    }\n",
       "\n",
       "    .dataframe thead th {\n",
       "        text-align: right;\n",
       "    }\n",
       "</style>\n",
       "<table border=\"1\" class=\"dataframe\">\n",
       "  <thead>\n",
       "    <tr style=\"text-align: right;\">\n",
       "      <th></th>\n",
       "      <th>x</th>\n",
       "      <th>y</th>\n",
       "      <th>word</th>\n",
       "      <th>pos</th>\n",
       "      <th>posInt</th>\n",
       "    </tr>\n",
       "  </thead>\n",
       "  <tbody>\n",
       "    <tr>\n",
       "      <th>0</th>\n",
       "      <td>56.242528</td>\n",
       "      <td>-30.031134</td>\n",
       "      <td>biennials</td>\n",
       "      <td>n</td>\n",
       "      <td>15</td>\n",
       "    </tr>\n",
       "    <tr>\n",
       "      <th>1</th>\n",
       "      <td>17.223312</td>\n",
       "      <td>29.899821</td>\n",
       "      <td>tripolitan</td>\n",
       "      <td>n</td>\n",
       "      <td>15</td>\n",
       "    </tr>\n",
       "    <tr>\n",
       "      <th>2</th>\n",
       "      <td>8.999858</td>\n",
       "      <td>-74.114660</td>\n",
       "      <td>chameleone</td>\n",
       "      <td>n</td>\n",
       "      <td>15</td>\n",
       "    </tr>\n",
       "    <tr>\n",
       "      <th>3</th>\n",
       "      <td>39.084687</td>\n",
       "      <td>-34.914781</td>\n",
       "      <td>nunnery</td>\n",
       "      <td>n</td>\n",
       "      <td>15</td>\n",
       "    </tr>\n",
       "    <tr>\n",
       "      <th>4</th>\n",
       "      <td>-34.378158</td>\n",
       "      <td>44.550147</td>\n",
       "      <td>prologistix</td>\n",
       "      <td>n</td>\n",
       "      <td>15</td>\n",
       "    </tr>\n",
       "  </tbody>\n",
       "</table>\n",
       "</div>"
      ],
      "text/plain": [
       "           x          y         word pos  posInt\n",
       "0  56.242528 -30.031134    biennials   n      15\n",
       "1  17.223312  29.899821   tripolitan   n      15\n",
       "2   8.999858 -74.114660   chameleone   n      15\n",
       "3  39.084687 -34.914781      nunnery   n      15\n",
       "4 -34.378158  44.550147  prologistix   n      15"
      ]
     },
     "execution_count": 74,
     "metadata": {},
     "output_type": "execute_result"
    }
   ],
   "source": [
    "tsne.head()"
   ]
  },
  {
   "cell_type": "code",
   "execution_count": 75,
   "metadata": {
    "collapsed": true
   },
   "outputs": [],
   "source": [
    "# Save to disk to visualize someplace else\n",
    "tsne.to_csv(\"180word2vec_tSNE.csv\",encoding=\"utf8\")"
   ]
  },
  {
   "cell_type": "markdown",
   "metadata": {},
   "source": [
    "# Read movie conversations"
   ]
  },
  {
   "cell_type": "code",
   "execution_count": 10,
   "metadata": {
    "collapsed": false
   },
   "outputs": [
    {
     "name": "stdout",
     "output_type": "stream",
     "text": [
      "Found 221616 pairs of conversations\n"
     ]
    }
   ],
   "source": [
    "convoIds = []\n",
    "with  open(\"cornell_movie_dialogs/movie_conversations.txt\") as fi:\n",
    "    contents = fi.read().decode(\"UTF-8\").split(\"\\n\")\n",
    "    for line in contents:\n",
    "        sline=line.split(\"+++$+++\")\n",
    "        if (len(sline)==4): \n",
    "            convos = sline[3].strip()\n",
    "            convos = convos.replace(\"'\",\"\").replace(\"[\",\"\").replace(\"]\",\"\").replace(\",\",\"\").split(\" \")\n",
    "            for n in range(len(convos)-1):\n",
    "                convoIds.append((convos[n],convos[n+1]))\n",
    "print (\"Found \"+str(len(convoIds))+\" pairs of conversations\")"
   ]
  },
  {
   "cell_type": "code",
   "execution_count": null,
   "metadata": {
    "collapsed": false
   },
   "outputs": [],
   "source": []
  },
  {
   "cell_type": "code",
   "execution_count": 11,
   "metadata": {
    "collapsed": false
   },
   "outputs": [
    {
     "name": "stdout",
     "output_type": "stream",
     "text": [
      "Found 304713 lines total\n"
     ]
    }
   ],
   "source": [
    "with  open(\"cornell_movie_dialogs/movie_lines.txt\") as fi:\n",
    "    contents = fi.read().decode(\"latin-1\").split(\"\\n\")\n",
    "    movie_lines = []\n",
    "    for line in contents:\n",
    "        sline=line.split(\"+++$+++\")\n",
    "        if (len(sline)>=5):        \n",
    "            ID = sline[0].strip()\n",
    "            convo = sline[4].strip()+\"\\n\"\n",
    "            movie_lines.append([ID,convo])\n",
    "    movie_lines_df=pd.DataFrame(movie_lines,columns=[\"Id\",\"line\"]).set_index('Id')\n",
    "print (\"Found \"+str(len(movie_lines))+\" lines total\")"
   ]
  },
  {
   "cell_type": "code",
   "execution_count": 12,
   "metadata": {
    "collapsed": false
   },
   "outputs": [],
   "source": [
    "convoSequences = []\n",
    "for id1,id2 in convoIds:\n",
    "    convoSequences.append((movie_lines_df.loc[id1].line,movie_lines_df.loc[id2].line)) "
   ]
  },
  {
   "cell_type": "code",
   "execution_count": 13,
   "metadata": {
    "collapsed": false
   },
   "outputs": [],
   "source": [
    "convoSequences_df=pd.DataFrame(convoSequences,columns=[\"line1\",\"line2\"])"
   ]
  },
  {
   "cell_type": "markdown",
   "metadata": {},
   "source": [
    "## Tokenize the texts"
   ]
  },
  {
   "cell_type": "code",
   "execution_count": 14,
   "metadata": {
    "collapsed": false
   },
   "outputs": [
    {
     "name": "stderr",
     "output_type": "stream",
     "text": [
      "/Users/fcucchietti/anaconda/lib/python2.7/site-packages/h5py/__init__.py:36: FutureWarning: Conversion of the second argument of issubdtype from `float` to `np.floating` is deprecated. In future, it will be treated as `np.float64 == np.dtype(float).type`.\n",
      "  from ._conv import register_converters as _register_converters\n",
      "Using TensorFlow backend.\n"
     ]
    }
   ],
   "source": [
    "from keras.preprocessing.text import Tokenizer\n",
    "from keras.preprocessing.sequence import pad_sequences\n",
    "from keras.preprocessing.text import text_to_word_sequence"
   ]
  },
  {
   "cell_type": "code",
   "execution_count": 15,
   "metadata": {
    "collapsed": false
   },
   "outputs": [],
   "source": [
    "all_texts = movie_lines_df.line.values"
   ]
  },
  {
   "cell_type": "code",
   "execution_count": 16,
   "metadata": {
    "collapsed": false
   },
   "outputs": [],
   "source": [
    "tokenized_texts = [text_to_word_sequence(sentence,filters='!\"#$%&()*+,-./:;<=>?@[\\\\]^_`{|}~\\t\\n\\'') for sentence in all_texts]\n",
    "tokenized_questions = [text_to_word_sequence(sentence,filters='!\"#$%&()*+,-./:;<=>?@[\\\\]^_`{|}~\\t\\n\\'') for sentence in convoSequences_df.line1.values]\n",
    "tokenized_answers = [text_to_word_sequence(sentence,filters='!\"#$%&()*+,-./:;<=>?@[\\\\]^_`{|}~\\t\\n\\'') for sentence in convoSequences_df.line2.values]"
   ]
  },
  {
   "cell_type": "markdown",
   "metadata": {},
   "source": [
    "## Finally convert sequences of tokenized words into sequences of embedding coordinates"
   ]
  },
  {
   "cell_type": "code",
   "execution_count": 19,
   "metadata": {
    "collapsed": false
   },
   "outputs": [],
   "source": [
    "# missing words will get assigned ... a random embedding\n",
    "def ran_word():\n",
    "    return np.random.random(EMBEDDING_DIM)"
   ]
  },
  {
   "cell_type": "code",
   "execution_count": 24,
   "metadata": {
    "collapsed": false
   },
   "outputs": [],
   "source": [
    "NOTINDIC = len(tokenizedVocab)"
   ]
  },
  {
   "cell_type": "code",
   "execution_count": 21,
   "metadata": {
    "collapsed": false
   },
   "outputs": [],
   "source": [
    "# finish tokenization of sequences\n",
    "#all_sequences = [ [word_vectors[w2v[word]] if word in tokenizedVocab else ran_word() for word in seq] for seq in tokenized_texts ]\n",
    "sequences_questions = [ [ w2i[(word)] if word in w2i else ran_word() for word in seq] \n",
    "                       for seq in tokenized_questions ]"
   ]
  },
  {
   "cell_type": "code",
   "execution_count": 22,
   "metadata": {
    "collapsed": true
   },
   "outputs": [],
   "source": [
    "sequences_answers = [ [w2i[(word)] if word in w2i  else ran_word() for word in seq] for seq in tokenized_answers ]"
   ]
  },
  {
   "cell_type": "markdown",
   "metadata": {
    "collapsed": false
   },
   "source": [
    "### Some examples of sentences for plotting"
   ]
  },
  {
   "cell_type": "code",
   "execution_count": 25,
   "metadata": {
    "collapsed": false
   },
   "outputs": [],
   "source": [
    "# I need the indices of words in sentences to plot them in tSNE\n",
    "some_sentences = [ [ w2i[(word)] if word in w2i else NOTINDIC for word in seq] \n",
    "                  for seq in tokenized_answers[:100] ]#np.random.choice(tokenized_answers,100)]\n",
    "#with open(\"some_sentences.csv\",'w') as fo:\n",
    "#    for seq in some_sentences:\n",
    "#        fo.write(\",\".join([str(x) for x in seq])+\"\\n\")"
   ]
  },
  {
   "cell_type": "code",
   "execution_count": 27,
   "metadata": {
    "collapsed": false
   },
   "outputs": [],
   "source": [
    "import json\n",
    "with open(\"some_sentences_3.csv\",'w') as fo:\n",
    "    fo.write(json.dumps([[str(x) for x in sen] for sen in some_sentences]))"
   ]
  },
  {
   "cell_type": "code",
   "execution_count": 78,
   "metadata": {
    "collapsed": false
   },
   "outputs": [
    {
     "data": {
      "text/plain": [
       "[u'okay',\n",
       " u'you',\n",
       " u're',\n",
       " u'gonna',\n",
       " u'need',\n",
       " u'to',\n",
       " u'learn',\n",
       " u'how',\n",
       " u'to',\n",
       " u'lie']"
      ]
     },
     "execution_count": 78,
     "metadata": {},
     "output_type": "execute_result"
    }
   ],
   "source": [
    "[i2w[w] if w<NOTINDIC else \"NID\" for w in some_sentences[40]]"
   ]
  },
  {
   "cell_type": "markdown",
   "metadata": {},
   "source": [
    "# Clusterization (not working)"
   ]
  },
  {
   "cell_type": "code",
   "execution_count": null,
   "metadata": {
    "collapsed": false
   },
   "outputs": [],
   "source": [
    "import hdbscan"
   ]
  },
  {
   "cell_type": "code",
   "execution_count": null,
   "metadata": {
    "collapsed": false
   },
   "outputs": [],
   "source": [
    "df.head()"
   ]
  },
  {
   "cell_type": "code",
   "execution_count": null,
   "metadata": {
    "collapsed": false
   },
   "outputs": [],
   "source": [
    "clusterer = hdbscan.HDBSCAN(algorithm='boruvka_kdtree')\n",
    "clusterer.fit(df.values)\n",
    "labels = clusterer.labels_"
   ]
  },
  {
   "cell_type": "code",
   "execution_count": null,
   "metadata": {
    "collapsed": false
   },
   "outputs": [],
   "source": [
    "labels[:5]"
   ]
  },
  {
   "cell_type": "code",
   "execution_count": null,
   "metadata": {
    "collapsed": true
   },
   "outputs": [],
   "source": [
    "tsne[\"cluster\"]=labels"
   ]
  },
  {
   "cell_type": "code",
   "execution_count": null,
   "metadata": {
    "collapsed": false
   },
   "outputs": [],
   "source": [
    "tsne.to_csv(\"word2vec_tSNE_HDBSCAN.csv\",encoding=\"utf8\")"
   ]
  },
  {
   "cell_type": "code",
   "execution_count": null,
   "metadata": {
    "collapsed": true
   },
   "outputs": [],
   "source": [
    "plt.scatter(tsne.x, tsne.y,alpha=0.05, s=5, linewidths=0)"
   ]
  },
  {
   "cell_type": "markdown",
   "metadata": {},
   "source": [
    "# seq2seq chatbot (WIP)"
   ]
  },
  {
   "cell_type": "code",
   "execution_count": null,
   "metadata": {
    "collapsed": true
   },
   "outputs": [],
   "source": [
    "# CAREFUL WITH THESE LINES THEY CAN CRASH PYTHON\n",
    "all_inputs = pad_sequences(all_sequences)\n",
    "X_input = pad_sequences(sequences_question,maxlen=all_inputs.shape[1])\n",
    "y_output = pad_sequences(sequences_answer,maxlen=all_inputs.shape[1])\n",
    "print('Shape of input and output tensors:', X_input.shape,y_output.shape)"
   ]
  },
  {
   "cell_type": "code",
   "execution_count": null,
   "metadata": {
    "collapsed": true
   },
   "outputs": [],
   "source": []
  },
  {
   "cell_type": "code",
   "execution_count": null,
   "metadata": {
    "collapsed": true
   },
   "outputs": [],
   "source": []
  },
  {
   "cell_type": "code",
   "execution_count": null,
   "metadata": {
    "collapsed": false
   },
   "outputs": [],
   "source": []
  },
  {
   "cell_type": "code",
   "execution_count": null,
   "metadata": {
    "collapsed": false
   },
   "outputs": [],
   "source": []
  },
  {
   "cell_type": "code",
   "execution_count": null,
   "metadata": {
    "collapsed": true
   },
   "outputs": [],
   "source": []
  }
 ],
 "metadata": {
  "kernelspec": {
   "display_name": "Python 2",
   "language": "python",
   "name": "python2"
  },
  "language_info": {
   "codemirror_mode": {
    "name": "ipython",
    "version": 2
   },
   "file_extension": ".py",
   "mimetype": "text/x-python",
   "name": "python",
   "nbconvert_exporter": "python",
   "pygments_lexer": "ipython2",
   "version": "2.7.13"
  }
 },
 "nbformat": 4,
 "nbformat_minor": 0
}
